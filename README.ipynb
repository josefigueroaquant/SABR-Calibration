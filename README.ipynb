
<div align="center" style="color:#3b82f6; font-size: 40px; font-weight: bold;">

SABR MODEL

</div>

**Historical context and sources**

The SABR model (Stochastic Alpha, Beta, Rho) was introduced by Patrick S. Hagan, Deep Kumar, Andrew Lesniewski, and Diana Woodward (early 2000s). It became the standard market model for interest-rate and FX smiles because it is:

- **Parsimonious** (few parameters with clear roles),
- **Flexible** (controls skew via  \beta  and $ \rho $),
- **Practical** (closed-form implied vol approximations enable fast calibration without solving PDEs).

The widely used Hagan et al. implied volatility expansions provide efficient approximations for both **Black (lognormal)** and **Normal (Bachelier)** settings and are implemented in most pricing libraries and trading systems.
